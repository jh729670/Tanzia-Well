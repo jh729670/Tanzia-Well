{
 "cells": [
  {
   "cell_type": "code",
   "execution_count": 1,
   "metadata": {},
   "outputs": [
    {
     "name": "stderr",
     "output_type": "stream",
     "text": [
      "Using TensorFlow backend.\n"
     ]
    }
   ],
   "source": [
    "import pandas as pd\n",
    "import numpy as np\n",
    "from sklearn.preprocessing import LabelEncoder\n",
    "from keras.models import Sequential\n",
    "from keras.layers import Dense,Dropout,Flatten,InputLayer\n",
    "import random"
   ]
  },
  {
   "cell_type": "code",
   "execution_count": 2,
   "metadata": {},
   "outputs": [],
   "source": [
    "#Reads the Data\n",
    "data=pd.read_csv('well_data.csv')\n",
    "\n",
    "labels=pd.read_csv('well_labels.csv')"
   ]
  },
  {
   "cell_type": "code",
   "execution_count": 57,
   "metadata": {},
   "outputs": [
    {
     "data": {
      "text/html": [
       "<div>\n",
       "<style scoped>\n",
       "    .dataframe tbody tr th:only-of-type {\n",
       "        vertical-align: middle;\n",
       "    }\n",
       "\n",
       "    .dataframe tbody tr th {\n",
       "        vertical-align: top;\n",
       "    }\n",
       "\n",
       "    .dataframe thead th {\n",
       "        text-align: right;\n",
       "    }\n",
       "</style>\n",
       "<table border=\"1\" class=\"dataframe\">\n",
       "  <thead>\n",
       "    <tr style=\"text-align: right;\">\n",
       "      <th></th>\n",
       "      <th>id</th>\n",
       "      <th>status_group</th>\n",
       "    </tr>\n",
       "  </thead>\n",
       "  <tbody>\n",
       "    <tr>\n",
       "      <th>0</th>\n",
       "      <td>69572</td>\n",
       "      <td>functional</td>\n",
       "    </tr>\n",
       "    <tr>\n",
       "      <th>1</th>\n",
       "      <td>8776</td>\n",
       "      <td>functional</td>\n",
       "    </tr>\n",
       "    <tr>\n",
       "      <th>2</th>\n",
       "      <td>34310</td>\n",
       "      <td>functional</td>\n",
       "    </tr>\n",
       "    <tr>\n",
       "      <th>3</th>\n",
       "      <td>67743</td>\n",
       "      <td>non functional</td>\n",
       "    </tr>\n",
       "    <tr>\n",
       "      <th>4</th>\n",
       "      <td>19728</td>\n",
       "      <td>functional</td>\n",
       "    </tr>\n",
       "  </tbody>\n",
       "</table>\n",
       "</div>"
      ],
      "text/plain": [
       "      id    status_group\n",
       "0  69572      functional\n",
       "1   8776      functional\n",
       "2  34310      functional\n",
       "3  67743  non functional\n",
       "4  19728      functional"
      ]
     },
     "execution_count": 57,
     "metadata": {},
     "output_type": "execute_result"
    }
   ],
   "source": [
    "labels.head()"
   ]
  },
  {
   "cell_type": "code",
   "execution_count": 4,
   "metadata": {},
   "outputs": [
    {
     "data": {
      "text/plain": [
       "(59400, 40)"
      ]
     },
     "execution_count": 4,
     "metadata": {},
     "output_type": "execute_result"
    }
   ],
   "source": [
    "data.shape"
   ]
  },
  {
   "cell_type": "code",
   "execution_count": 9,
   "metadata": {},
   "outputs": [
    {
     "data": {
      "text/plain": [
       "Index(['id', 'amount_tsh', 'date_recorded', 'funder', 'gps_height',\n",
       "       'installer', 'longitude', 'latitude', 'wpt_name', 'num_private',\n",
       "       'basin', 'subvillage', 'region', 'region_code', 'district_code', 'lga',\n",
       "       'ward', 'population', 'public_meeting', 'recorded_by',\n",
       "       'scheme_management', 'scheme_name', 'permit', 'construction_year',\n",
       "       'extraction_type', 'extraction_type_group', 'extraction_type_class',\n",
       "       'management', 'management_group', 'payment', 'payment_type',\n",
       "       'water_quality', 'quality_group', 'quantity', 'quantity_group',\n",
       "       'source', 'source_type', 'source_class', 'waterpoint_type',\n",
       "       'waterpoint_type_group'],\n",
       "      dtype='object')"
      ]
     },
     "execution_count": 9,
     "metadata": {},
     "output_type": "execute_result"
    }
   ],
   "source": [
    "data.columns"
   ]
  },
  {
   "cell_type": "code",
   "execution_count": 11,
   "metadata": {},
   "outputs": [
    {
     "data": {
      "text/plain": [
       "id                           0\n",
       "amount_tsh                   0\n",
       "date_recorded                0\n",
       "funder                    3635\n",
       "gps_height                   0\n",
       "installer                 3655\n",
       "longitude                    0\n",
       "latitude                     0\n",
       "wpt_name                     0\n",
       "num_private                  0\n",
       "basin                        0\n",
       "subvillage                 371\n",
       "region                       0\n",
       "region_code                  0\n",
       "district_code                0\n",
       "lga                          0\n",
       "ward                         0\n",
       "population                   0\n",
       "public_meeting            3334\n",
       "recorded_by                  0\n",
       "scheme_management         3877\n",
       "scheme_name              28166\n",
       "permit                    3056\n",
       "construction_year            0\n",
       "extraction_type              0\n",
       "extraction_type_group        0\n",
       "extraction_type_class        0\n",
       "management                   0\n",
       "management_group             0\n",
       "payment                      0\n",
       "payment_type                 0\n",
       "water_quality                0\n",
       "quality_group                0\n",
       "quantity                     0\n",
       "quantity_group               0\n",
       "source                       0\n",
       "source_type                  0\n",
       "source_class                 0\n",
       "waterpoint_type              0\n",
       "waterpoint_type_group        0\n",
       "dtype: int64"
      ]
     },
     "execution_count": 11,
     "metadata": {},
     "output_type": "execute_result"
    }
   ],
   "source": [
    "data.isna().sum()"
   ]
  },
  {
   "cell_type": "code",
   "execution_count": 13,
   "metadata": {},
   "outputs": [
    {
     "data": {
      "text/html": [
       "<div>\n",
       "<style scoped>\n",
       "    .dataframe tbody tr th:only-of-type {\n",
       "        vertical-align: middle;\n",
       "    }\n",
       "\n",
       "    .dataframe tbody tr th {\n",
       "        vertical-align: top;\n",
       "    }\n",
       "\n",
       "    .dataframe thead th {\n",
       "        text-align: right;\n",
       "    }\n",
       "</style>\n",
       "<table border=\"1\" class=\"dataframe\">\n",
       "  <thead>\n",
       "    <tr style=\"text-align: right;\">\n",
       "      <th></th>\n",
       "      <th>id</th>\n",
       "      <th>amount_tsh</th>\n",
       "      <th>date_recorded</th>\n",
       "      <th>funder</th>\n",
       "      <th>gps_height</th>\n",
       "      <th>installer</th>\n",
       "      <th>longitude</th>\n",
       "      <th>latitude</th>\n",
       "      <th>wpt_name</th>\n",
       "      <th>num_private</th>\n",
       "      <th>...</th>\n",
       "      <th>payment_type</th>\n",
       "      <th>water_quality</th>\n",
       "      <th>quality_group</th>\n",
       "      <th>quantity</th>\n",
       "      <th>quantity_group</th>\n",
       "      <th>source</th>\n",
       "      <th>source_type</th>\n",
       "      <th>source_class</th>\n",
       "      <th>waterpoint_type</th>\n",
       "      <th>waterpoint_type_group</th>\n",
       "    </tr>\n",
       "  </thead>\n",
       "  <tbody>\n",
       "    <tr>\n",
       "      <th>0</th>\n",
       "      <td>69572</td>\n",
       "      <td>6000.0</td>\n",
       "      <td>3/14/2011</td>\n",
       "      <td>Roman</td>\n",
       "      <td>1390</td>\n",
       "      <td>Roman</td>\n",
       "      <td>34.938093</td>\n",
       "      <td>-9.856322</td>\n",
       "      <td>none</td>\n",
       "      <td>0</td>\n",
       "      <td>...</td>\n",
       "      <td>annually</td>\n",
       "      <td>soft</td>\n",
       "      <td>good</td>\n",
       "      <td>enough</td>\n",
       "      <td>enough</td>\n",
       "      <td>spring</td>\n",
       "      <td>spring</td>\n",
       "      <td>groundwater</td>\n",
       "      <td>communal standpipe</td>\n",
       "      <td>communal standpipe</td>\n",
       "    </tr>\n",
       "    <tr>\n",
       "      <th>1</th>\n",
       "      <td>8776</td>\n",
       "      <td>0.0</td>\n",
       "      <td>3/6/2013</td>\n",
       "      <td>Grumeti</td>\n",
       "      <td>1399</td>\n",
       "      <td>GRUMETI</td>\n",
       "      <td>34.698766</td>\n",
       "      <td>-2.147466</td>\n",
       "      <td>Zahanati</td>\n",
       "      <td>0</td>\n",
       "      <td>...</td>\n",
       "      <td>never pay</td>\n",
       "      <td>soft</td>\n",
       "      <td>good</td>\n",
       "      <td>insufficient</td>\n",
       "      <td>insufficient</td>\n",
       "      <td>rainwater harvesting</td>\n",
       "      <td>rainwater harvesting</td>\n",
       "      <td>surface</td>\n",
       "      <td>communal standpipe</td>\n",
       "      <td>communal standpipe</td>\n",
       "    </tr>\n",
       "    <tr>\n",
       "      <th>2</th>\n",
       "      <td>34310</td>\n",
       "      <td>25.0</td>\n",
       "      <td>2/25/2013</td>\n",
       "      <td>Lottery Club</td>\n",
       "      <td>686</td>\n",
       "      <td>World vision</td>\n",
       "      <td>37.460664</td>\n",
       "      <td>-3.821329</td>\n",
       "      <td>Kwa Mahundi</td>\n",
       "      <td>0</td>\n",
       "      <td>...</td>\n",
       "      <td>per bucket</td>\n",
       "      <td>soft</td>\n",
       "      <td>good</td>\n",
       "      <td>enough</td>\n",
       "      <td>enough</td>\n",
       "      <td>dam</td>\n",
       "      <td>dam</td>\n",
       "      <td>surface</td>\n",
       "      <td>communal standpipe multiple</td>\n",
       "      <td>communal standpipe</td>\n",
       "    </tr>\n",
       "    <tr>\n",
       "      <th>3</th>\n",
       "      <td>67743</td>\n",
       "      <td>0.0</td>\n",
       "      <td>1/28/2013</td>\n",
       "      <td>Unicef</td>\n",
       "      <td>263</td>\n",
       "      <td>UNICEF</td>\n",
       "      <td>38.486161</td>\n",
       "      <td>-11.155298</td>\n",
       "      <td>Zahanati Ya Nanyumbu</td>\n",
       "      <td>0</td>\n",
       "      <td>...</td>\n",
       "      <td>never pay</td>\n",
       "      <td>soft</td>\n",
       "      <td>good</td>\n",
       "      <td>dry</td>\n",
       "      <td>dry</td>\n",
       "      <td>machine dbh</td>\n",
       "      <td>borehole</td>\n",
       "      <td>groundwater</td>\n",
       "      <td>communal standpipe multiple</td>\n",
       "      <td>communal standpipe</td>\n",
       "    </tr>\n",
       "    <tr>\n",
       "      <th>4</th>\n",
       "      <td>19728</td>\n",
       "      <td>0.0</td>\n",
       "      <td>7/13/2011</td>\n",
       "      <td>Action In A</td>\n",
       "      <td>0</td>\n",
       "      <td>Artisan</td>\n",
       "      <td>31.130847</td>\n",
       "      <td>-1.825359</td>\n",
       "      <td>Shuleni</td>\n",
       "      <td>0</td>\n",
       "      <td>...</td>\n",
       "      <td>never pay</td>\n",
       "      <td>soft</td>\n",
       "      <td>good</td>\n",
       "      <td>seasonal</td>\n",
       "      <td>seasonal</td>\n",
       "      <td>rainwater harvesting</td>\n",
       "      <td>rainwater harvesting</td>\n",
       "      <td>surface</td>\n",
       "      <td>communal standpipe</td>\n",
       "      <td>communal standpipe</td>\n",
       "    </tr>\n",
       "  </tbody>\n",
       "</table>\n",
       "<p>5 rows × 40 columns</p>\n",
       "</div>"
      ],
      "text/plain": [
       "      id  amount_tsh date_recorded        funder  gps_height     installer  \\\n",
       "0  69572      6000.0     3/14/2011         Roman        1390         Roman   \n",
       "1   8776         0.0      3/6/2013       Grumeti        1399       GRUMETI   \n",
       "2  34310        25.0     2/25/2013  Lottery Club         686  World vision   \n",
       "3  67743         0.0     1/28/2013        Unicef         263        UNICEF   \n",
       "4  19728         0.0     7/13/2011   Action In A           0       Artisan   \n",
       "\n",
       "   longitude   latitude              wpt_name  num_private  ... payment_type  \\\n",
       "0  34.938093  -9.856322                  none            0  ...     annually   \n",
       "1  34.698766  -2.147466              Zahanati            0  ...    never pay   \n",
       "2  37.460664  -3.821329           Kwa Mahundi            0  ...   per bucket   \n",
       "3  38.486161 -11.155298  Zahanati Ya Nanyumbu            0  ...    never pay   \n",
       "4  31.130847  -1.825359               Shuleni            0  ...    never pay   \n",
       "\n",
       "  water_quality quality_group      quantity  quantity_group  \\\n",
       "0          soft          good        enough          enough   \n",
       "1          soft          good  insufficient    insufficient   \n",
       "2          soft          good        enough          enough   \n",
       "3          soft          good           dry             dry   \n",
       "4          soft          good      seasonal        seasonal   \n",
       "\n",
       "                 source           source_type  source_class  \\\n",
       "0                spring                spring   groundwater   \n",
       "1  rainwater harvesting  rainwater harvesting       surface   \n",
       "2                   dam                   dam       surface   \n",
       "3           machine dbh              borehole   groundwater   \n",
       "4  rainwater harvesting  rainwater harvesting       surface   \n",
       "\n",
       "               waterpoint_type waterpoint_type_group  \n",
       "0           communal standpipe    communal standpipe  \n",
       "1           communal standpipe    communal standpipe  \n",
       "2  communal standpipe multiple    communal standpipe  \n",
       "3  communal standpipe multiple    communal standpipe  \n",
       "4           communal standpipe    communal standpipe  \n",
       "\n",
       "[5 rows x 40 columns]"
      ]
     },
     "execution_count": 13,
     "metadata": {},
     "output_type": "execute_result"
    }
   ],
   "source": [
    "data.head()"
   ]
  },
  {
   "cell_type": "code",
   "execution_count": 21,
   "metadata": {},
   "outputs": [
    {
     "data": {
      "text/plain": [
       "soft                  50818\n",
       "salty                  4856\n",
       "unknown                1876\n",
       "milky                   804\n",
       "coloured                490\n",
       "salty abandoned         339\n",
       "fluoride                200\n",
       "fluoride abandoned       17\n",
       "Name: water_quality, dtype: int64"
      ]
     },
     "execution_count": 21,
     "metadata": {},
     "output_type": "execute_result"
    }
   ],
   "source": [
    "data['water_quality'].value_counts()"
   ]
  },
  {
   "cell_type": "code",
   "execution_count": 23,
   "metadata": {},
   "outputs": [
    {
     "data": {
      "text/plain": [
       "good        50818\n",
       "salty        5195\n",
       "unknown      1876\n",
       "milky         804\n",
       "colored       490\n",
       "fluoride      217\n",
       "Name: quality_group, dtype: int64"
      ]
     },
     "execution_count": 23,
     "metadata": {},
     "output_type": "execute_result"
    }
   ],
   "source": [
    "data['quality_group'].value_counts()"
   ]
  },
  {
   "cell_type": "code",
   "execution_count": 25,
   "metadata": {},
   "outputs": [
    {
     "data": {
      "text/plain": [
       "enough          33186\n",
       "insufficient    15129\n",
       "dry              6246\n",
       "seasonal         4050\n",
       "unknown           789\n",
       "Name: quantity, dtype: int64"
      ]
     },
     "execution_count": 25,
     "metadata": {},
     "output_type": "execute_result"
    }
   ],
   "source": [
    "data['quantity'].value_counts()"
   ]
  },
  {
   "cell_type": "code",
   "execution_count": 26,
   "metadata": {},
   "outputs": [
    {
     "data": {
      "text/plain": [
       "enough          33186\n",
       "insufficient    15129\n",
       "dry              6246\n",
       "seasonal         4050\n",
       "unknown           789\n",
       "Name: quantity_group, dtype: int64"
      ]
     },
     "execution_count": 26,
     "metadata": {},
     "output_type": "execute_result"
    }
   ],
   "source": [
    "data['quantity_group'].value_counts()"
   ]
  },
  {
   "cell_type": "code",
   "execution_count": 28,
   "metadata": {},
   "outputs": [
    {
     "data": {
      "text/plain": [
       "spring                  17021\n",
       "shallow well            16824\n",
       "machine dbh             11075\n",
       "river                    9612\n",
       "rainwater harvesting     2295\n",
       "hand dtw                  874\n",
       "lake                      765\n",
       "dam                       656\n",
       "other                     212\n",
       "unknown                    66\n",
       "Name: source, dtype: int64"
      ]
     },
     "execution_count": 28,
     "metadata": {},
     "output_type": "execute_result"
    }
   ],
   "source": [
    "data['source'].value_counts()"
   ]
  },
  {
   "cell_type": "code",
   "execution_count": 31,
   "metadata": {},
   "outputs": [
    {
     "data": {
      "text/plain": [
       "spring                  17021\n",
       "shallow well            16824\n",
       "borehole                11949\n",
       "river/lake              10377\n",
       "rainwater harvesting     2295\n",
       "dam                       656\n",
       "other                     278\n",
       "Name: source_type, dtype: int64"
      ]
     },
     "execution_count": 31,
     "metadata": {},
     "output_type": "execute_result"
    }
   ],
   "source": [
    "data['source_type'].value_counts()"
   ]
  },
  {
   "cell_type": "code",
   "execution_count": 33,
   "metadata": {},
   "outputs": [
    {
     "data": {
      "text/plain": [
       "groundwater    45794\n",
       "surface        13328\n",
       "unknown          278\n",
       "Name: source_class, dtype: int64"
      ]
     },
     "execution_count": 33,
     "metadata": {},
     "output_type": "execute_result"
    }
   ],
   "source": [
    "data['source_class'].value_counts()"
   ]
  },
  {
   "cell_type": "code",
   "execution_count": 34,
   "metadata": {},
   "outputs": [
    {
     "data": {
      "text/plain": [
       "communal standpipe             28522\n",
       "hand pump                      17488\n",
       "other                           6380\n",
       "communal standpipe multiple     6103\n",
       "improved spring                  784\n",
       "cattle trough                    116\n",
       "dam                                7\n",
       "Name: waterpoint_type, dtype: int64"
      ]
     },
     "execution_count": 34,
     "metadata": {},
     "output_type": "execute_result"
    }
   ],
   "source": [
    "data['waterpoint_type'].value_counts()"
   ]
  },
  {
   "cell_type": "code",
   "execution_count": 35,
   "metadata": {},
   "outputs": [
    {
     "data": {
      "text/plain": [
       "communal standpipe    34625\n",
       "hand pump             17488\n",
       "other                  6380\n",
       "improved spring         784\n",
       "cattle trough           116\n",
       "dam                       7\n",
       "Name: waterpoint_type_group, dtype: int64"
      ]
     },
     "execution_count": 35,
     "metadata": {},
     "output_type": "execute_result"
    }
   ],
   "source": [
    "data['waterpoint_type_group'].value_counts()"
   ]
  },
  {
   "cell_type": "code",
   "execution_count": 3,
   "metadata": {},
   "outputs": [],
   "source": [
    "#Creates the data frame I need to perform the Neural Network\n",
    "x_var=data.loc[:,['water_quality','quality_group','quantity','quantity_group','source','source_type',\n",
    "                  'source_class',\n",
    "                  'waterpoint_type',\n",
    "                 'waterpoint_type_group']]\n"
   ]
  },
  {
   "cell_type": "code",
   "execution_count": 4,
   "metadata": {},
   "outputs": [
    {
     "data": {
      "text/plain": [
       "functional                 32259\n",
       "non functional             22824\n",
       "functional needs repair     4317\n",
       "Name: status_group, dtype: int64"
      ]
     },
     "execution_count": 4,
     "metadata": {},
     "output_type": "execute_result"
    }
   ],
   "source": [
    "#Counts the number of categorical variables\n",
    "targets=labels.iloc[:,1]\n",
    "\n",
    "targets.value_counts()\n",
    "\n"
   ]
  },
  {
   "cell_type": "code",
   "execution_count": 5,
   "metadata": {},
   "outputs": [],
   "source": [
    "#Encodes the target variable to perform calculations\n",
    "encoded=LabelEncoder()\n",
    "\n",
    "encoded_targets=encoded.fit_transform(targets)\n",
    "\n",
    "\n"
   ]
  },
  {
   "cell_type": "code",
   "execution_count": 6,
   "metadata": {},
   "outputs": [
    {
     "data": {
      "text/plain": [
       "(array([0, 1, 2]), array([32259,  4317, 22824], dtype=int64))"
      ]
     },
     "execution_count": 6,
     "metadata": {},
     "output_type": "execute_result"
    }
   ],
   "source": [
    "#Verfies that the Label Enconder Works\n",
    "np.unique(encoded_targets,return_counts=True)"
   ]
  },
  {
   "cell_type": "code",
   "execution_count": 6,
   "metadata": {},
   "outputs": [],
   "source": [
    "#Performs label encoder for al of the x variables\n",
    "x_encoded=[]\n",
    "\n",
    "for i in x_var:\n",
    "    encode=encoded.fit_transform(x_var[i])\n",
    "    x_encoded.append(encode)\n",
    "    "
   ]
  },
  {
   "cell_type": "code",
   "execution_count": 7,
   "metadata": {},
   "outputs": [],
   "source": [
    "#transposes the dataframe so that the columns are correct\n",
    "x_encoded=pd.DataFrame(x_encoded)\n",
    "\n",
    "x_encoded=x_encoded.transpose()\n"
   ]
  },
  {
   "cell_type": "code",
   "execution_count": 9,
   "metadata": {},
   "outputs": [
    {
     "data": {
      "text/plain": [
       "6    50818\n",
       "4     4856\n",
       "7     1876\n",
       "3      804\n",
       "0      490\n",
       "5      339\n",
       "1      200\n",
       "2       17\n",
       "Name: 0, dtype: int64"
      ]
     },
     "execution_count": 9,
     "metadata": {},
     "output_type": "execute_result"
    }
   ],
   "source": [
    "x_encoded.iloc[:,0].value_counts()"
   ]
  },
  {
   "cell_type": "code",
   "execution_count": 11,
   "metadata": {},
   "outputs": [
    {
     "data": {
      "text/plain": [
       "1    34625\n",
       "3    17488\n",
       "5     6380\n",
       "4      784\n",
       "0      116\n",
       "2        7\n",
       "Name: 8, dtype: int64"
      ]
     },
     "execution_count": 11,
     "metadata": {},
     "output_type": "execute_result"
    }
   ],
   "source": [
    "x_encoded.iloc[:,8].value_counts()"
   ]
  },
  {
   "cell_type": "code",
   "execution_count": 8,
   "metadata": {},
   "outputs": [
    {
     "data": {
      "text/plain": [
       "(59400, 9)"
      ]
     },
     "execution_count": 8,
     "metadata": {},
     "output_type": "execute_result"
    }
   ],
   "source": [
    "#Lables for the columns\n",
    "columns=['water_quality','quality_group','quantity','quantity_group','source','source_type',\n",
    "                  'source_class',\n",
    "                  'waterpoint_type',\n",
    "                 'waterpoint_type_group']\n",
    "\n",
    "#Names the columns in the dataframe\n",
    "x_encoded.columns=columns\n",
    "\n",
    "x_encoded.shape"
   ]
  },
  {
   "cell_type": "code",
   "execution_count": 9,
   "metadata": {},
   "outputs": [
    {
     "data": {
      "text/plain": [
       "(59400, 1)"
      ]
     },
     "execution_count": 9,
     "metadata": {},
     "output_type": "execute_result"
    }
   ],
   "source": [
    "#Reshapes the array\n",
    "encoded_targets=np.reshape(encoded_targets,(59400,1))\n",
    "\n",
    "encoded_targets.shape"
   ]
  },
  {
   "cell_type": "code",
   "execution_count": 41,
   "metadata": {},
   "outputs": [],
   "source": [
    "x_encoded=np.reshape(x_encoded,(59400,9))\n",
    "\n",
    "x_encoded=x_encoded.to_numpy()\n",
    "\n",
    "\n"
   ]
  },
  {
   "cell_type": "code",
   "execution_count": 42,
   "metadata": {},
   "outputs": [],
   "source": [
    "x_encoded=np.reshape(x_encoded,(59400,9))\n"
   ]
  },
  {
   "cell_type": "code",
   "execution_count": 9,
   "metadata": {},
   "outputs": [],
   "source": [
    "from keras.wrappers.scikit_learn import KerasClassifier\n",
    "from sklearn.model_selection import RandomizedSearchCV\n",
    "from keras.callbacks import EarlyStopping\n",
    "from keras.optimizers import Adam,Adagrad,RMSprop,SGD\n",
    "from sklearn.metrics import confusion_matrix, precision_score, recall_score,accuracy_score\n",
    "from sklearn.model_selection import train_test_split\n"
   ]
  },
  {
   "cell_type": "code",
   "execution_count": 16,
   "metadata": {},
   "outputs": [
    {
     "data": {
      "text/plain": [
       "(47520, 9)"
      ]
     },
     "execution_count": 16,
     "metadata": {},
     "output_type": "execute_result"
    }
   ],
   "source": [
    "#splits the data into training and testing\n",
    "x_train,X_test,y_train,Y_test=train_test_split(x_encoded,encoded_targets, test_size=.2,random_state=42)\n",
    "\n",
    "y_train.shape\n",
    "x_train.shape"
   ]
  },
  {
   "cell_type": "code",
   "execution_count": 41,
   "metadata": {},
   "outputs": [],
   "source": [
    "#Creates the 1st model\n",
    "model_1=Sequential([\n",
    "    Dense(18,input_dim=9,activation='relu'),\n",
    "    Dropout(.2),\n",
    "    Dense(9,activation='relu'),\n",
    "    Dropout(.2,),\n",
    "    Dense(6,activation='relu'),\n",
    "    Dropout(.2),\n",
    "    Dense(3, activation='softmax')\n",
    "    \n",
    "])\n",
    "\n",
    "model_1.compile(loss='sparse_categorical_crossentropy',optimizer='adam',metrics=['accuracy'])"
   ]
  },
  {
   "cell_type": "code",
   "execution_count": 42,
   "metadata": {},
   "outputs": [
    {
     "data": {
      "text/plain": [
       "<keras.callbacks.callbacks.History at 0x21ab0504d08>"
      ]
     },
     "execution_count": 42,
     "metadata": {},
     "output_type": "execute_result"
    }
   ],
   "source": [
    "#Fits the model\n",
    "model_1.fit(x_train,y_train,validation_data=(X_test,Y_test), epochs=100,verbose=0,callbacks=[\n",
    "    EarlyStopping(monitor='val_accuracy',patience=10)\n",
    "])"
   ]
  },
  {
   "cell_type": "code",
   "execution_count": 45,
   "metadata": {},
   "outputs": [
    {
     "name": "stdout",
     "output_type": "stream",
     "text": [
      "47520/47520 [==============================] - 5s 105us/step\n",
      "Model Accruracy @ 100 epochs: 70.3\n"
     ]
    }
   ],
   "source": [
    "#Prints out model evaluation\n",
    "evaluation=model_1.evaluate(x_train,y_train)\n",
    "print('Model Accruracy @ 100 epochs:', round(evaluation[1]*100,1))"
   ]
  },
  {
   "cell_type": "code",
   "execution_count": 53,
   "metadata": {},
   "outputs": [],
   "source": [
    "#Creates the confusion matrix\n",
    "predict=model_1.predict_classes(X_test)\n",
    "cm=confusion_matrix(predict,Y_test)"
   ]
  },
  {
   "cell_type": "code",
   "execution_count": 10,
   "metadata": {},
   "outputs": [],
   "source": [
    "#Plot feautres of the confusion matrix\n",
    "import matplotlib.pyplot as plt\n",
    "import itertools\n",
    "\n",
    "def plot_confusion_matrix(cm, classes, normalize=False, title='Confusion matrix',cmap=plt.cm.Blues):\n",
    "    plt.imshow(cm, interpolation='nearest', cmap=cmap)\n",
    "    plt.title(title)\n",
    "    plt.colorbar()\n",
    "    tick_marks=np.arange(len(classes))\n",
    "    plt.xticks(tick_marks,classes)\n",
    "    plt.yticks(tick_marks, classes)\n",
    "    \n",
    "    if normalize:\n",
    "        cm=cm.astype('float')/cm.sum(axis-1)[:,np.newaxis]\n",
    "        print('Normalized confusion matrix')\n",
    "    else:\n",
    "        print('Confusion Matrix w/o Normalization')\n",
    "    print(cm)\n",
    "    #Creates threshold to determine font color and labels each section of confusion matrix with their number \n",
    "    thresh=cm.max()/2\n",
    "    for i,j in itertools.product(range(cm.shape[0]), range(cm.shape[1])):\n",
    "        plt.text(j,i,cm[i,j]),\n",
    "        horizontalaligment='center',\n",
    "        color='white'if cm[i,j]>thresh else 'black'\n",
    "    \n",
    "    \n",
    "    \n",
    "    plt.tight_layout()\n",
    "    plt.ylabel('True Label')\n",
    "    plt.xlabel('Predicted Label')\n",
    "\n",
    " \n",
    "cm_labels=['Functional','Needs Repairs','Not Functional']"
   ]
  },
  {
   "cell_type": "code",
   "execution_count": 62,
   "metadata": {},
   "outputs": [
    {
     "name": "stdout",
     "output_type": "stream",
     "text": [
      "Confusion Matrix w/o Normalization\n",
      "[[6152  779 2390]\n",
      " [   0    0    0]\n",
      " [ 305   72 2182]]\n"
     ]
    },
    {
     "data": {
      "image/png": "[encoded data removed]",
      "text/plain": [
       "<Figure size 432x288 with 2 Axes>"
      ]
     },
     "metadata": {
      "needs_background": "light"
     },
     "output_type": "display_data"
    }
   ],
   "source": [
    "#Prints out confusion matrix. This model does not do a great job of recognizing 'Needs Repairs'\n",
    "cm_labels=['Functional','Needs Repairs','Not Functional']\n",
    "\n",
    "plot_confusion_matrix(cm,cm_labels)"
   ]
  },
  {
   "cell_type": "code",
   "execution_count": 12,
   "metadata": {},
   "outputs": [],
   "source": [
    "#Create a 2nd model with dropout rate\n",
    "model_2=Sequential([\n",
    "    Dense(64,input_dim=9,activation='relu'),\n",
    "    Dropout(.5),\n",
    "    Dense(32,activation='relu'),\n",
    "    Dropout(.5,),\n",
    "    Dense(16, activation='relu'),\n",
    "    Dropout(.5),\n",
    "    Dense(6,activation='relu'),\n",
    "    Dropout(.5),\n",
    "    Dense(3, activation='softmax')\n",
    "    \n",
    "])\n",
    "\n",
    "model_2.compile(loss='sparse_categorical_crossentropy',optimizer='adam',metrics=['accuracy'])"
   ]
  },
  {
   "cell_type": "code",
   "execution_count": 13,
   "metadata": {},
   "outputs": [
    {
     "data": {
      "text/plain": [
       "<keras.callbacks.callbacks.History at 0x2584d0a4c88>"
      ]
     },
     "execution_count": 13,
     "metadata": {},
     "output_type": "execute_result"
    }
   ],
   "source": [
    "model_2.fit(x_train,y_train,validation_data=(X_test,Y_test), epochs=100,verbose=0,callbacks=[\n",
    "    EarlyStopping(monitor='val_accuracy',patience=25)\n",
    "],batch_size=500)"
   ]
  },
  {
   "cell_type": "code",
   "execution_count": 15,
   "metadata": {},
   "outputs": [
    {
     "name": "stdout",
     "output_type": "stream",
     "text": [
      "47520/47520 [==============================] - 5s 100us/step\n",
      "Model Accruracy @ 100 epochs: 69.4\n"
     ]
    }
   ],
   "source": [
    "#Model accuracy does not improve with this model\n",
    "evaluation=model_2.evaluate(x_train,y_train)\n",
    "print('Model Accruracy @ 100 epochs:', round(evaluation[1]*100,1))"
   ]
  },
  {
   "cell_type": "code",
   "execution_count": 12,
   "metadata": {},
   "outputs": [],
   "source": [
    "#Attempt to find the best parameters for this problem. First start off by defining my Neural Network\n",
    "def create_model(n_neurons,n_hidden=1,learning_rate=0.1,input_dim=9,activation='relu'):\n",
    "    model=Sequential()\n",
    "    optimizer=Adam(lr=learning_rate)\n",
    "    model.add(Dense(n_neurons,input_dim=input_dim,activation=activation))\n",
    "    for layer in range(n_hidden):\n",
    "        model.add(Dense(n_neurons, activation=activation))\n",
    "    model.add(Dense(3,activation='softmax'))\n",
    "    model.compile(loss='sparse_categorical_crossentropy',optimizer=optimizer,metrics=['accuracy'])\n",
    "    return model"
   ]
  },
  {
   "cell_type": "code",
   "execution_count": 13,
   "metadata": {},
   "outputs": [],
   "source": [
    "#Parameters that I want to test using random grid search to find optimal hyperparameters\n",
    "params={\n",
    "    'n_hidden':[1,2,3,4,5],\n",
    "    'n_neurons': [10,20,30,40,50,60,70,80,90,100],\n",
    "    'learning_rate':[0.1,0.01,0.001],\n",
    "    'epochs': [10,20,30,40,50,60,70,80,90,100]\n",
    "    \n",
    "}"
   ]
  },
  {
   "cell_type": "code",
   "execution_count": 26,
   "metadata": {},
   "outputs": [
    {
     "data": {
      "text/plain": [
       "{'n_hidden': [1, 2, 3, 4, 5],\n",
       " 'n_neurons': [10, 20, 30, 40, 50, 60, 70, 80, 90, 100],\n",
       " 'learning_rate': [0.1, 0.01, 0.001],\n",
       " 'epochs': [10, 20, 30, 40, 50, 60, 70, 80, 90, 100]}"
      ]
     },
     "execution_count": 26,
     "metadata": {},
     "output_type": "execute_result"
    }
   ],
   "source": [
    "params"
   ]
  },
  {
   "cell_type": "code",
   "execution_count": 15,
   "metadata": {},
   "outputs": [
    {
     "name": "stdout",
     "output_type": "stream",
     "text": [
      "15840/15840 [==============================] - 0s 22us/step\n",
      "15840/15840 [==============================] - 0s 21us/step\n",
      "15840/15840 [==============================] - 0s 25us/step\n",
      "15840/15840 [==============================] - 0s 25us/step\n",
      "15840/15840 [==============================] - 0s 24us/step\n",
      "15840/15840 [==============================] - 0s 23us/step\n",
      "15840/15840 [==============================] - 1s 87us/step\n",
      "15840/15840 [==============================] - 1s 95us/step\n",
      "15840/15840 [==============================] - 2s 96us/step\n",
      "15840/15840 [==============================] - 1s 41us/step\n",
      "15840/15840 [==============================] - 0s 21us/step\n",
      "15840/15840 [==============================] - 1s 37us/step\n",
      "15840/15840 [==============================] - 1s 52us/step\n",
      "15840/15840 [==============================] - 1s 43us/step\n",
      "15840/15840 [==============================] - 1s 33us/step\n",
      "15840/15840 [==============================] - 1s 84us/step\n",
      "15840/15840 [==============================] - 2s 97us/step\n",
      "15840/15840 [==============================] - 1s 84us/step\n",
      "15840/15840 [==============================] - 1s 41us/step\n",
      "15840/15840 [==============================] - 1s 46us/step\n",
      "15840/15840 [==============================] - 1s 46us/step\n",
      "15840/15840 [==============================] - 0s 31us/step\n",
      "15840/15840 [==============================] - 1s 33us/step\n",
      "15840/15840 [==============================] - 1s 48us/step\n",
      "15840/15840 [==============================] - 1s 36us/step\n",
      "15840/15840 [==============================] - 1s 78us/step\n",
      "15840/15840 [==============================] - 2s 105us/step\n",
      "15840/15840 [==============================] - 2s 114us/step\n",
      "15840/15840 [==============================] - 2s 122us/step\n",
      "15840/15840 [==============================] - 2s 111us/step\n"
     ]
    },
    {
     "data": {
      "text/plain": [
       "RandomizedSearchCV(cv=3, error_score=nan,\n",
       "                   estimator=<keras.wrappers.scikit_learn.KerasClassifier object at 0x000001635790AB08>,\n",
       "                   iid='deprecated', n_iter=10, n_jobs=None,\n",
       "                   param_distributions={'epochs': [10, 20, 30, 40, 50, 60, 70,\n",
       "                                                   80, 90, 100],\n",
       "                                        'learning_rate': [0.1, 0.01, 0.001],\n",
       "                                        'n_hidden': [1, 2, 3, 4, 5],\n",
       "                                        'n_neurons': [10, 20, 30, 40, 50, 60,\n",
       "                                                      70, 80, 90, 100]},\n",
       "                   pre_dispatch='2*n_jobs', random_state=None, refit=True,\n",
       "                   return_train_score=False, scoring=None, verbose=0)"
      ]
     },
     "execution_count": 15,
     "metadata": {},
     "output_type": "execute_result"
    }
   ],
   "source": [
    "#Builds the random search classifier from Keras\n",
    "random.seed(42)\n",
    "\n",
    "keras_clf=KerasClassifier(build_fn=create_model)\n",
    "\n",
    "random_search=RandomizedSearchCV(keras_clf,params,cv=3)\n",
    "\n",
    "random_search.fit(x_train,y_train,validation_split=.1,verbose=0,\n",
    "                 callbacks=[EarlyStopping(monitor='val_accuracy',patience=25)])\n"
   ]
  },
  {
   "cell_type": "code",
   "execution_count": 17,
   "metadata": {},
   "outputs": [
    {
     "data": {
      "text/plain": [
       "{'n_neurons': 70, 'n_hidden': 4, 'learning_rate': 0.001, 'epochs': 90}"
      ]
     },
     "execution_count": 17,
     "metadata": {},
     "output_type": "execute_result"
    }
   ],
   "source": [
    "#Best parameters according to the Grid Search\n",
    "random_search.best_params_"
   ]
  },
  {
   "cell_type": "code",
   "execution_count": 20,
   "metadata": {},
   "outputs": [
    {
     "data": {
      "text/plain": [
       "0.7038931051890055"
      ]
     },
     "execution_count": 20,
     "metadata": {},
     "output_type": "execute_result"
    }
   ],
   "source": [
    "#Best accuracy Score\n",
    "random_search.best_score_"
   ]
  },
  {
   "cell_type": "code",
   "execution_count": 29,
   "metadata": {},
   "outputs": [
    {
     "name": "stdout",
     "output_type": "stream",
     "text": [
      "Confusion Matrix w/o Normalization\n",
      "[[6031    3  423]\n",
      " [ 751    8   92]\n",
      " [2269    1 2302]]\n"
     ]
    },
    {
     "data": {
      "image/png": "[encoded data removed]",
      "text/plain": [
       "<Figure size 432x288 with 2 Axes>"
      ]
     },
     "metadata": {
      "needs_background": "light"
     },
     "output_type": "display_data"
    }
   ],
   "source": [
    "#Creates the confusion matrix\n",
    "best_model=random_search.best_estimator_.model\n",
    "best_predicts=best_model.predict_classes(X_test)\n",
    "best_cm=confusion_matrix(Y_test,best_predicts)\n",
    "cm_labels=['Functional','Needs Repairs','Not Functional']\n",
    "plot_confusion_matrix(best_cm,cm_labels)"
   ]
  },
  {
   "cell_type": "code",
   "execution_count": 34,
   "metadata": {},
   "outputs": [
    {
     "name": "stdout",
     "output_type": "stream",
     "text": [
      "Precision Score for Neural Network is 0.716727758965515\n",
      "Recall Score for Neural Network is: 0.4823084522194008\n",
      "Accuracy Score Neural Network is: 0.7021043771043771\n"
     ]
    }
   ],
   "source": [
    "print('Precision Score for Neural Network is',precision_score(Y_test,best_predicts,average='macro'))\n",
    "print('Recall Score for Neural Network is:',recall_score(Y_test,best_predicts,average='macro'))\n",
    "print('Accuracy Score Neural Network is:',accuracy_score(Y_test,best_predicts))"
   ]
  },
  {
   "cell_type": "code",
   "execution_count": 14,
   "metadata": {},
   "outputs": [],
   "source": [
    "#Creates a Nueral Network\n",
    "def build_model(n_neurons,optimizer,n_hidden=1,learning_rate=0.1,input_dim=9,activation='relu'):\n",
    "    model=Sequential()\n",
    "    optimizer=optimizer\n",
    "    model.add(Dense(n_neurons,input_dim=input_dim,activation=activation))\n",
    "    for layer in range(n_hidden):\n",
    "        model.add(Dense(n_neurons, activation=activation))\n",
    "    model.add(Dense(3,activation='softmax'))\n",
    "    model.compile(loss='sparse_categorical_crossentropy',optimizer=optimizer,metrics=['accuracy'])\n",
    "    return model"
   ]
  },
  {
   "cell_type": "code",
   "execution_count": 19,
   "metadata": {},
   "outputs": [],
   "source": [
    "#Parameters for Random Search. This time using different optimiziers\n",
    "params_optimum={\n",
    "    'n_hidden':[10,11,12,13,14,15],\n",
    "    'n_neurons': [64,96,128,160,192,224,256],\n",
    "    'learning_rate':[0.1,0.01,0.001],\n",
    "    'epochs': [10,20,30,40,50,60,70,80,90,100],\n",
    "    'optimizer':['Adam','SGD','Adagrad']\n",
    "}"
   ]
  },
  {
   "cell_type": "code",
   "execution_count": 20,
   "metadata": {},
   "outputs": [
    {
     "data": {
      "text/plain": [
       "{'n_hidden': [10, 11, 12, 13, 14, 15],\n",
       " 'n_neurons': [64, 96, 128, 160, 192, 224, 256],\n",
       " 'learning_rate': [0.1, 0.01, 0.001],\n",
       " 'epochs': [10, 20, 30, 40, 50, 60, 70, 80, 90, 100],\n",
       " 'optimizer': ['Adam', 'SGD', 'Adagrad']}"
      ]
     },
     "execution_count": 20,
     "metadata": {},
     "output_type": "execute_result"
    }
   ],
   "source": [
    "params_optimum"
   ]
  },
  {
   "cell_type": "code",
   "execution_count": 21,
   "metadata": {},
   "outputs": [
    {
     "name": "stdout",
     "output_type": "stream",
     "text": [
      "15840/15840 [==============================] - 2s 113us/step\n",
      "15840/15840 [==============================] - 2s 113us/step\n",
      "15840/15840 [==============================] - 2s 99us/step\n",
      "15840/15840 [==============================] - 1s 70us/step\n",
      "15840/15840 [==============================] - 1s 61us/step\n",
      "15840/15840 [==============================] - 1s 72us/step\n",
      "15840/15840 [==============================] - 1s 81us/step\n",
      "15840/15840 [==============================] - 2s 101us/step\n",
      "15840/15840 [==============================] - 2s 101us/step\n",
      "15840/15840 [==============================] - 2s 132us/step\n",
      "15840/15840 [==============================] - 1s 82us/step\n",
      "15840/15840 [==============================] - 1s 82us/step\n",
      "15840/15840 [==============================] - 1s 92us/step\n",
      "15840/15840 [==============================] - 1s 85us/step\n",
      "15840/15840 [==============================] - 1s 91us/step\n",
      "15840/15840 [==============================] - 2s 156us/step\n",
      "15840/15840 [==============================] - 2s 142us/step\n",
      "15840/15840 [==============================] - 2s 121us/step\n",
      "15840/15840 [==============================] - 2s 132us/step\n",
      "15840/15840 [==============================] - 2s 141us/step\n",
      "15840/15840 [==============================] - 2s 129us/step\n",
      "15840/15840 [==============================] - 2s 103us/step\n",
      "15840/15840 [==============================] - 1s 56us/step\n",
      "15840/15840 [==============================] - 2s 107us/step\n",
      "15840/15840 [==============================] - 3s 193us/step\n",
      "15840/15840 [==============================] - 1s 66us/step\n",
      "15840/15840 [==============================] - 2s 105us/step\n",
      "15840/15840 [==============================] - 2s 110us/step\n",
      "15840/15840 [==============================] - 2s 141us/step\n",
      "15840/15840 [==============================] - 2s 117us/step\n"
     ]
    }
   ],
   "source": [
    "#Random Grid Search using Kera's Classifier\n",
    "random.seed(42)\n",
    "\n",
    "new_keras_clf=KerasClassifier(build_fn=build_model)\n",
    "\n",
    "new_random_search=RandomizedSearchCV(new_keras_clf,params_optimum,cv=3)\n",
    "\n",
    "history=new_random_search.fit(x_train,y_train,validation_split=.1,verbose=0,\n",
    "                 callbacks=[EarlyStopping(monitor='val_accuracy',patience=10)])"
   ]
  },
  {
   "cell_type": "code",
   "execution_count": 22,
   "metadata": {},
   "outputs": [
    {
     "data": {
      "text/plain": [
       "{'optimizer': 'SGD',\n",
       " 'n_neurons': 256,\n",
       " 'n_hidden': 15,\n",
       " 'learning_rate': 0.1,\n",
       " 'epochs': 80}"
      ]
     },
     "execution_count": 22,
     "metadata": {},
     "output_type": "execute_result"
    }
   ],
   "source": [
    "#Prints best paramters from model\n",
    "history.best_params_"
   ]
  },
  {
   "cell_type": "code",
   "execution_count": 23,
   "metadata": {},
   "outputs": [
    {
     "data": {
      "text/plain": [
       "0.7040614485740662"
      ]
     },
     "execution_count": 23,
     "metadata": {},
     "output_type": "execute_result"
    }
   ],
   "source": [
    "#Prints best accuracy score\n",
    "history.best_score_"
   ]
  },
  {
   "cell_type": "code",
   "execution_count": 24,
   "metadata": {},
   "outputs": [
    {
     "name": "stdout",
     "output_type": "stream",
     "text": [
      "Confusion Matrix w/o Normalization\n",
      "[[5986    0  471]\n",
      " [ 742    0  109]\n",
      " [2206    0 2366]]\n"
     ]
    },
    {
     "data": {
      "image/png": "[encoded data removed]",
      "text/plain": [
       "<Figure size 432x288 with 2 Axes>"
      ]
     },
     "metadata": {
      "needs_background": "light"
     },
     "output_type": "display_data"
    }
   ],
   "source": [
    "#Prints confusion matrix from the model\n",
    "sgd_model=history.best_estimator_.model\n",
    "sgd_predicts=sgd_model.predict_classes(X_test)\n",
    "sgd_cm=confusion_matrix(Y_test,sgd_predicts)\n",
    "cm_labels=['Functional','Needs Repairs','Not Functional']\n",
    "plot_confusion_matrix(sgd_cm,cm_labels)"
   ]
  },
  {
   "cell_type": "code",
   "execution_count": 26,
   "metadata": {},
   "outputs": [
    {
     "name": "stdout",
     "output_type": "stream",
     "text": [
      "Precision Score for Neural Network is 0.49104916783575897\n",
      "Recall Score for Neural Network is: 0.48151790702998637\n",
      "Accuracy Score Neural Network is: 0.703030303030303\n"
     ]
    }
   ],
   "source": [
    "print('Precision Score for Neural Network is',precision_score(Y_test,sgd_predicts,average='macro'))\n",
    "print('Recall Score for Neural Network is:',recall_score(Y_test,sgd_predicts,average='macro'))\n",
    "print('Accuracy Score Neural Network is:',accuracy_score(Y_test,sgd_predicts))"
   ]
  },
  {
   "cell_type": "markdown",
   "metadata": {},
   "source": [
    "Now I want to use Geo location to see if this will help the model. I will perform Kmeans clustering to find out data point's label "
   ]
  },
  {
   "cell_type": "code",
   "execution_count": 12,
   "metadata": {},
   "outputs": [
    {
     "data": {
      "image/png": "[encoded data removed]",
      "text/plain": [
       "<Figure size 432x288 with 1 Axes>"
      ]
     },
     "metadata": {
      "needs_background": "light"
     },
     "output_type": "display_data"
    }
   ],
   "source": [
    "from sklearn.cluster import KMeans\n",
    "from sklearn.metrics import classification_report\n",
    "\n",
    "#Retrieves Geo Location data\n",
    "geo_data=data.loc[:,['longitude','latitude']]\n",
    "#Plots the Geo Location to see if any patterns emerge. Clearly there are outliers\n",
    "plt.scatter(x=geo_data.iloc[:,0],y=geo_data.iloc[:,1])\n",
    "plt.xlabel('longitude')\n",
    "plt.ylabel('latitude')\n",
    "plt.show()\n",
    "\n",
    "\n"
   ]
  },
  {
   "cell_type": "code",
   "execution_count": 13,
   "metadata": {},
   "outputs": [
    {
     "data": {
      "image/png": "[encoded data removed]",
      "text/plain": [
       "<Figure size 432x288 with 1 Axes>"
      ]
     },
     "metadata": {
      "needs_background": "light"
     },
     "output_type": "display_data"
    }
   ],
   "source": [
    "#Filters out Outliers\n",
    "geo_data=geo_data[(geo_data.longitude>0)]\n",
    "#PLots results\n",
    "plt.scatter(x=geo_data.iloc[:,0],y=geo_data.iloc[:,1])\n",
    "plt.xlabel('longitude')\n",
    "plt.ylabel('latitude')\n",
    "plt.show()\n"
   ]
  },
  {
   "cell_type": "code",
   "execution_count": 14,
   "metadata": {},
   "outputs": [],
   "source": [
    "#Performs Kmeans with various k centers\n",
    "sse=[]\n",
    "k_list=np.arange(1,11)\n",
    "\n",
    "for i in k_list:\n",
    "    km=KMeans(n_clusters=i)\n",
    "    km.fit(geo_data)\n",
    "    sse.append(km.inertia_)\n",
    "    "
   ]
  },
  {
   "cell_type": "code",
   "execution_count": 15,
   "metadata": {},
   "outputs": [
    {
     "data": {
      "image/png": "[encoded data removed]",
      "text/plain": [
       "<Figure size 432x288 with 1 Axes>"
      ]
     },
     "metadata": {
      "needs_background": "light"
     },
     "output_type": "display_data"
    }
   ],
   "source": [
    "#Plots Elbow Plot to see optimum k centers. That appears to be 4\n",
    "plt.scatter(x=k_list,y=sse)\n",
    "plt.xlabel('K')\n",
    "plt.ylabel('Sum of Square Error')\n",
    "plt.title('Elbow Method')\n",
    "plt.show()"
   ]
  },
  {
   "cell_type": "code",
   "execution_count": 17,
   "metadata": {},
   "outputs": [],
   "source": [
    "from sklearn.metrics import silhouette_score\n",
    "#Gets silhouette score\n",
    "scores=silhouette_score(geo_data,km.labels_)"
   ]
  },
  {
   "cell_type": "code",
   "execution_count": 16,
   "metadata": {},
   "outputs": [
    {
     "data": {
      "text/plain": [
       "KMeans(algorithm='auto', copy_x=True, init='k-means++', max_iter=300,\n",
       "       n_clusters=4, n_init=10, n_jobs=None, precompute_distances='auto',\n",
       "       random_state=None, tol=0.0001, verbose=0)"
      ]
     },
     "execution_count": 16,
     "metadata": {},
     "output_type": "execute_result"
    }
   ],
   "source": [
    "#Performs Kmeans with 4 clusters\n",
    "km=KMeans(n_clusters=4)\n",
    "km.fit(geo_data)"
   ]
  },
  {
   "cell_type": "code",
   "execution_count": 17,
   "metadata": {},
   "outputs": [
    {
     "data": {
      "text/plain": [
       "array([[32.32387704, -3.24424906],\n",
       "       [38.39827044, -8.40351381],\n",
       "       [34.22884195, -9.17182616],\n",
       "       [36.82181819, -4.3733311 ]])"
      ]
     },
     "execution_count": 17,
     "metadata": {},
     "output_type": "execute_result"
    }
   ],
   "source": [
    "#Cluster Centers\n",
    "km.cluster_centers_"
   ]
  },
  {
   "cell_type": "code",
   "execution_count": 18,
   "metadata": {},
   "outputs": [],
   "source": [
    "#Converts to an array to be able to plot centers\n",
    "centers=np.array(km.cluster_centers_)"
   ]
  },
  {
   "cell_type": "code",
   "execution_count": 19,
   "metadata": {},
   "outputs": [
    {
     "data": {
      "image/png": "[encoded data removed]",
      "text/plain": [
       "<Figure size 432x288 with 1 Axes>"
      ]
     },
     "metadata": {
      "needs_background": "light"
     },
     "output_type": "display_data"
    }
   ],
   "source": [
    "#Plots the centers\n",
    "plt.scatter(x=geo_data.iloc[:,0],y=geo_data.iloc[:,1])\n",
    "plt.scatter(centers[:,0],centers[:,1],marker='x',color='r')\n",
    "plt.xlabel('longitude')\n",
    "plt.ylabel('latitude')\n",
    "plt.show()"
   ]
  },
  {
   "cell_type": "code",
   "execution_count": 20,
   "metadata": {},
   "outputs": [],
   "source": [
    "#Encodes the target variable to perform calculations\n",
    "encoded=LabelEncoder()\n",
    "cluster_points=encoded.fit_transform(km.labels_)"
   ]
  },
  {
   "cell_type": "code",
   "execution_count": 21,
   "metadata": {
    "scrolled": true
   },
   "outputs": [],
   "source": [
    "#Grabs all relevent data including the GEO Location of the wells\n",
    "new_x=data.loc[:,['longitude','latitude','water_quality','quality_group','quantity','quantity_group','source','source_type',\n",
    "                  'source_class',\n",
    "                  'waterpoint_type',\n",
    "                 'waterpoint_type_group']]\n",
    "#Adds Targets to dataframe in order to filter out outliers, so all variables and targets will be the same length\n",
    "new_x['Targets']=targets\n",
    "#Filters out Outliers\n",
    "new_x=new_x[(new_x.longitude>0)]\n",
    "#Removes longtitude and latitude, will not need them. Instead will use categories assign by KMeans to use as locatio\n",
    "new_x=new_x.drop(['longitude','latitude'],axis=1)\n",
    "\n",
    "new_x.shape\n",
    "#New Target variable with well information\n",
    "new_targets=new_x.iloc[:,9]\n",
    "#Encoded Targets\n",
    "encoded_new_targets=encoded.fit_transform(new_targets)"
   ]
  },
  {
   "cell_type": "code",
   "execution_count": 22,
   "metadata": {},
   "outputs": [],
   "source": [
    "#Encodes the x variables \n",
    "x_new_encoded=[]\n",
    "\n",
    "for i in x_var:\n",
    "    encode=encoded.fit_transform(new_x[i])\n",
    "    x_new_encoded.append(encode)"
   ]
  },
  {
   "cell_type": "code",
   "execution_count": 23,
   "metadata": {},
   "outputs": [],
   "source": [
    "#transposes the dataframe so that the columns are correct\n",
    "x_new_encoded=pd.DataFrame(x_new_encoded)\n",
    "\n",
    "x_new_encoded=x_new_encoded.transpose()"
   ]
  },
  {
   "cell_type": "code",
   "execution_count": 24,
   "metadata": {},
   "outputs": [
    {
     "name": "stdout",
     "output_type": "stream",
     "text": [
      "57588\n",
      "57588\n",
      "57588\n"
     ]
    }
   ],
   "source": [
    "print(len(x_new_encoded))\n",
    "print(len(cluster_points))\n",
    "print(len(encoded_new_targets))"
   ]
  },
  {
   "cell_type": "code",
   "execution_count": 25,
   "metadata": {},
   "outputs": [],
   "source": [
    "#Lables for the columns\n",
    "columns=['water_quality','quality_group','quantity','quantity_group','source','source_type',\n",
    "                  'source_class',\n",
    "                  'waterpoint_type',\n",
    "                 'waterpoint_type_group']\n",
    "\n",
    "#Names the columns in the dataframe\n",
    "x_new_encoded.columns=columns"
   ]
  },
  {
   "cell_type": "code",
   "execution_count": 26,
   "metadata": {},
   "outputs": [],
   "source": [
    "#Adds 'Geo Location' to the x variables from the cluster labels from the KMeans\n",
    "x_new_encoded['Geo_Location']=cluster_points"
   ]
  },
  {
   "cell_type": "code",
   "execution_count": 27,
   "metadata": {},
   "outputs": [
    {
     "data": {
      "text/plain": [
       "0    17054\n",
       "3    16765\n",
       "2    13690\n",
       "1    10079\n",
       "Name: Geo_Location, dtype: int64"
      ]
     },
     "execution_count": 27,
     "metadata": {},
     "output_type": "execute_result"
    }
   ],
   "source": [
    "#Verifies value counts from Geo Location\n",
    "x_new_encoded['Geo_Location'].value_counts()\n"
   ]
  },
  {
   "cell_type": "code",
   "execution_count": 28,
   "metadata": {},
   "outputs": [],
   "source": [
    "#splits the data into training and testing\n",
    "x_train_geo,X_test_geo,y_train_geo,Y_test_geo=train_test_split(x_new_encoded,encoded_new_targets, test_size=.2,random_state=42)"
   ]
  },
  {
   "cell_type": "code",
   "execution_count": 29,
   "metadata": {},
   "outputs": [],
   "source": [
    "#Defines Neural Network\n",
    "def geo_model(n_neurons,optimizer,n_hidden,learning_rate=0.1,input_dim=10,activation='relu'):\n",
    "    model=Sequential()\n",
    "    optimizer=optimizer\n",
    "    model.add(Dense(n_neurons,input_dim=input_dim,activation=activation))\n",
    "    model.add(Dropout(0.2))\n",
    "    for layer in range(n_hidden):\n",
    "        model.add(Dense(n_neurons, activation=activation))\n",
    "    model.add(Dense(3,activation='softmax'))\n",
    "    model.compile(loss='sparse_categorical_crossentropy',optimizer=optimizer,metrics=['accuracy'])\n",
    "    return model"
   ]
  },
  {
   "cell_type": "code",
   "execution_count": 30,
   "metadata": {},
   "outputs": [],
   "source": [
    "#Defines parameters for Neural Network\n",
    "params_optimum={\n",
    "    'n_hidden':[2,4,6,8,10],\n",
    "    'n_neurons': [8,16,32,64,96],\n",
    "    'learning_rate':[0.1,0.01,0.001],\n",
    "    'epochs': [10,20,30,40,50,60,70,80,90,100],\n",
    "    'optimizer':['Adam','SGD','Adagrad'],\n",
    "    \n",
    "}"
   ]
  },
  {
   "cell_type": "code",
   "execution_count": 31,
   "metadata": {},
   "outputs": [
    {
     "name": "stdout",
     "output_type": "stream",
     "text": [
      "15357/15357 [==============================] - 1s 92us/step\n",
      "15357/15357 [==============================] - 1s 87us/step\n",
      "15356/15356 [==============================] - 1s 91us/step\n",
      "15357/15357 [==============================] - 1s 63us/step\n",
      "15357/15357 [==============================] - 1s 73us/step\n",
      "15356/15356 [==============================] - 2s 138us/step\n",
      "15357/15357 [==============================] - 1s 96us/step\n",
      "15357/15357 [==============================] - 2s 111us/step\n",
      "15356/15356 [==============================] - 2s 104us/step\n",
      "15357/15357 [==============================] - 2s 111us/step\n",
      "15357/15357 [==============================] - 2s 110us/step\n",
      "15356/15356 [==============================] - 1s 81us/step\n",
      "15357/15357 [==============================] - 2s 105us/step\n",
      "15357/15357 [==============================] - 1s 52us/step\n",
      "15356/15356 [==============================] - 0s 31us/step\n",
      "15357/15357 [==============================] - 1s 61us/step\n",
      "15357/15357 [==============================] - 1s 77us/step\n",
      "15356/15356 [==============================] - 1s 67us/step\n",
      "15357/15357 [==============================] - 1s 72us/step\n",
      "15357/15357 [==============================] - 1s 52us/step\n",
      "15356/15356 [==============================] - 0s 24us/step\n",
      "15357/15357 [==============================] - 1s 95us/step\n",
      "15357/15357 [==============================] - 1s 95us/step\n",
      "15356/15356 [==============================] - 1s 65us/step\n",
      "15357/15357 [==============================] - 0s 27us/step\n",
      "15357/15357 [==============================] - 1s 34us/step\n",
      "15356/15356 [==============================] - 0s 26us/step\n",
      "15357/15357 [==============================] - 0s 32us/step\n",
      "15357/15357 [==============================] - 2s 142us/step\n",
      "15356/15356 [==============================] - 1s 96us/step\n"
     ]
    }
   ],
   "source": [
    "#Random Classifier for Geo Neural Network Model\n",
    "random.seed(42)\n",
    "\n",
    "geo_keras_clf=KerasClassifier(build_fn=geo_model)\n",
    "\n",
    "geo_random_search=RandomizedSearchCV(geo_keras_clf,params_optimum,cv=3)\n",
    "\n",
    "history_geo=geo_random_search.fit(x_train_geo,y_train_geo,validation_data=(X_test_geo,Y_test_geo),verbose=0,\n",
    "                 callbacks=[EarlyStopping(monitor='val_accuracy',patience=10)])"
   ]
  },
  {
   "cell_type": "code",
   "execution_count": 32,
   "metadata": {},
   "outputs": [
    {
     "data": {
      "text/plain": [
       "{'optimizer': 'Adam',\n",
       " 'n_neurons': 64,\n",
       " 'n_hidden': 2,\n",
       " 'learning_rate': 0.1,\n",
       " 'epochs': 40}"
      ]
     },
     "execution_count": 32,
     "metadata": {},
     "output_type": "execute_result"
    }
   ],
   "source": [
    "#Prints out best parameters\n",
    "history_geo.best_params_"
   ]
  },
  {
   "cell_type": "code",
   "execution_count": 34,
   "metadata": {},
   "outputs": [
    {
     "data": {
      "text/plain": [
       "0.7130238016446432"
      ]
     },
     "execution_count": 34,
     "metadata": {},
     "output_type": "execute_result"
    }
   ],
   "source": [
    "#Prints out best score\n",
    "history_geo.best_score_"
   ]
  },
  {
   "cell_type": "code",
   "execution_count": 37,
   "metadata": {},
   "outputs": [
    {
     "name": "stdout",
     "output_type": "stream",
     "text": [
      "Confusion Matrix w/o Normalization\n",
      "[[5879   17  405]\n",
      " [ 635   54  102]\n",
      " [2121   18 2287]]\n"
     ]
    },
    {
     "data": {
      "image/png": "[encoded data removed]",
      "text/plain": [
       "<Figure size 432x288 with 2 Axes>"
      ]
     },
     "metadata": {
      "needs_background": "light"
     },
     "output_type": "display_data"
    }
   ],
   "source": [
    "#Prints confusion matrix from the model\n",
    "geo_best_model=history_geo.best_estimator_.model\n",
    "geo_best_predicts=geo_best_model.predict_classes(X_test_geo)\n",
    "geo_best_cm=confusion_matrix(Y_test_geo,geo_best_predicts)\n",
    "cm_labels=['Functional','Needs Repairs','Not Functional']\n",
    "plot_confusion_matrix(geo_best_cm,cm_labels)"
   ]
  },
  {
   "cell_type": "code",
   "execution_count": 38,
   "metadata": {},
   "outputs": [
    {
     "name": "stdout",
     "output_type": "stream",
     "text": [
      "Precision Score for Random Forest is 0.7020383722959727\n",
      "Recall Score for Random Forest is: 0.5060046347832842\n",
      "Accuracy Socre Random Forest is : 0.7136655669387046\n"
     ]
    }
   ],
   "source": [
    "print('Precision Score for Random Forest is',precision_score(Y_test_geo,geo_best_predicts,average='macro'))\n",
    "print('Recall Score for Random Forest is:',recall_score(Y_test_geo,geo_best_predicts,average='macro'))\n",
    "print('Accuracy Socre Random Forest is :', accuracy_score(Y_test_geo,geo_best_predicts))"
   ]
  },
  {
   "cell_type": "markdown",
   "metadata": {},
   "source": [
    "Attempt Random Forest Model to see if accuracy improves "
   ]
  },
  {
   "cell_type": "code",
   "execution_count": 43,
   "metadata": {},
   "outputs": [],
   "source": [
    "from sklearn.model_selection import GridSearchCV\n",
    "from sklearn.ensemble import RandomForestClassifier"
   ]
  },
  {
   "cell_type": "code",
   "execution_count": 35,
   "metadata": {},
   "outputs": [
    {
     "data": {
      "text/plain": [
       "GridSearchCV(cv=10, error_score=nan,\n",
       "             estimator=RandomForestClassifier(bootstrap=True, ccp_alpha=0.0,\n",
       "                                              class_weight=None,\n",
       "                                              criterion='gini', max_depth=None,\n",
       "                                              max_features='auto',\n",
       "                                              max_leaf_nodes=None,\n",
       "                                              max_samples=None,\n",
       "                                              min_impurity_decrease=0.0,\n",
       "                                              min_impurity_split=None,\n",
       "                                              min_samples_leaf=1,\n",
       "                                              min_samples_split=2,\n",
       "                                              min_weight_fraction_leaf=0.0,\n",
       "                                              n_estimators=100, n_jobs=None,\n",
       "                                              oob_score=False,\n",
       "                                              random_state=None, verbose=0,\n",
       "                                              warm_start=False),\n",
       "             iid='deprecated', n_jobs=None,\n",
       "             param_grid={'n_estimators': [10, 20, 30, 40, 50, 60, 70, 80, 90,\n",
       "                                          100]},\n",
       "             pre_dispatch='2*n_jobs', refit=True, return_train_score=False,\n",
       "             scoring='accuracy', verbose=0)"
      ]
     },
     "execution_count": 35,
     "metadata": {},
     "output_type": "execute_result"
    }
   ],
   "source": [
    "#Attempt to run Random Forest using Geo Location\n",
    "random.seed(42)\n",
    "\n",
    "rfc_model=RandomForestClassifier()\n",
    "\n",
    "n_estimators=[10,20,30,40,50,60,70,80,90,100]\n",
    "param_grid=dict(n_estimators=n_estimators)\n",
    "\n",
    "grid=GridSearchCV(rfc_model,param_grid, cv=10, scoring='accuracy') \n",
    "\n",
    "#Fit the grid with the data\n",
    "grid.fit(x_train_geo,y_train_geo)"
   ]
  },
  {
   "cell_type": "code",
   "execution_count": 36,
   "metadata": {},
   "outputs": [
    {
     "data": {
      "text/plain": [
       "array([0.71751682, 0.71766876, 0.71762535, 0.71788583, 0.71769047,\n",
       "       0.71788583, 0.71790753, 0.71758194, 0.717799  , 0.71771218])"
      ]
     },
     "execution_count": 36,
     "metadata": {},
     "output_type": "execute_result"
    }
   ],
   "source": [
    "#Mean Scores using cross validation\n",
    "grid.cv_results_['mean_test_score']"
   ]
  },
  {
   "cell_type": "code",
   "execution_count": 37,
   "metadata": {},
   "outputs": [
    {
     "name": "stdout",
     "output_type": "stream",
     "text": [
      "{'n_estimators': 70}\n",
      "0.7179075320164966\n",
      "RandomForestClassifier(bootstrap=True, ccp_alpha=0.0, class_weight=None,\n",
      "                       criterion='gini', max_depth=None, max_features='auto',\n",
      "                       max_leaf_nodes=None, max_samples=None,\n",
      "                       min_impurity_decrease=0.0, min_impurity_split=None,\n",
      "                       min_samples_leaf=1, min_samples_split=2,\n",
      "                       min_weight_fraction_leaf=0.0, n_estimators=70,\n",
      "                       n_jobs=None, oob_score=False, random_state=None,\n",
      "                       verbose=0, warm_start=False)\n"
     ]
    }
   ],
   "source": [
    "#Retreieve optimal information to achieve best model\n",
    "print(grid.best_params_)\n",
    "print(grid.best_score_)\n",
    "print (grid.best_estimator_)"
   ]
  },
  {
   "cell_type": "code",
   "execution_count": 41,
   "metadata": {},
   "outputs": [
    {
     "name": "stdout",
     "output_type": "stream",
     "text": [
      "Confusion Matrix w/o Normalization\n",
      "[[5806   32  463]\n",
      " [ 613   62  116]\n",
      " [2042   23 2361]]\n"
     ]
    },
    {
     "data": {
      "image/png": "[encoded data removed]",
      "text/plain": [
       "<Figure size 432x288 with 2 Axes>"
      ]
     },
     "metadata": {
      "needs_background": "light"
     },
     "output_type": "display_data"
    }
   ],
   "source": [
    "#Creates the model with the best hyperparamter \n",
    "final_model=grid.best_estimator_\n",
    "#Predicts the model\n",
    "final_prediction=final_model.predict(X_test_geo)\n",
    "#Creates the confusion matrix\n",
    "forest_cm=confusion_matrix(Y_test_geo,final_prediction)\n",
    "#Plots the confusion matrix\n",
    "plot_confusion_matrix(forest_cm, cm_labels)"
   ]
  },
  {
   "cell_type": "code",
   "execution_count": 43,
   "metadata": {},
   "outputs": [
    {
     "name": "stdout",
     "output_type": "stream",
     "text": [
      "Precision Score for Random Forest is 0.6730610195018318\n",
      "Recall Score for Random Forest is: 0.5110872023999243\n",
      "Accuracy Socre Random Forest is : 0.7144469525959368\n"
     ]
    }
   ],
   "source": [
    "print('Precision Score for Random Forest is',precision_score(Y_test_geo,final_prediction,average='macro'))\n",
    "print('Recall Score for Random Forest is:',recall_score(Y_test_geo,final_prediction,average='macro'))\n",
    "print('Accuracy Socre Random Forest is :', accuracy_score(Y_test_geo,final_prediction))"
   ]
  },
  {
   "cell_type": "code",
   "execution_count": 29,
   "metadata": {},
   "outputs": [
    {
     "data": {
      "text/plain": [
       "GridSearchCV(cv=10, error_score=nan,\n",
       "             estimator=AdaBoostClassifier(algorithm='SAMME.R',\n",
       "                                          base_estimator=DecisionTreeClassifier(ccp_alpha=0.0,\n",
       "                                                                                class_weight=None,\n",
       "                                                                                criterion='gini',\n",
       "                                                                                max_depth=1,\n",
       "                                                                                max_features=None,\n",
       "                                                                                max_leaf_nodes=None,\n",
       "                                                                                min_impurity_decrease=0.0,\n",
       "                                                                                min_impurity_split=None,\n",
       "                                                                                min_samples_leaf=1,\n",
       "                                                                                min_samples_split=2,\n",
       "                                                                                min_weight_fraction_leaf=0.0,\n",
       "                                                                                presort='deprecated',\n",
       "                                                                                random_state=None,\n",
       "                                                                                splitter='best'),\n",
       "                                          learning_rate=1.0, n_estimators=50,\n",
       "                                          random_state=None),\n",
       "             iid='deprecated', n_jobs=None,\n",
       "             param_grid={'learning_rate': [0.1, 0.01, 0.001],\n",
       "                         'n_estimators': [100, 200, 300, 400, 500]},\n",
       "             pre_dispatch='2*n_jobs', refit=True, return_train_score=False,\n",
       "             scoring='accuracy', verbose=0)"
      ]
     },
     "execution_count": 29,
     "metadata": {},
     "output_type": "execute_result"
    }
   ],
   "source": [
    "from sklearn.ensemble import AdaBoostClassifier\n",
    "from sklearn.tree import DecisionTreeClassifier\n",
    "#Using ADAboost to see if accuracy improves\n",
    "ada_model=AdaBoostClassifier(DecisionTreeClassifier(max_depth=1),algorithm='SAMME.R')\n",
    "\n",
    "ada_params={\n",
    "    'n_estimators':[100,200,300,400,500],\n",
    "    'learning_rate':[0.1,0.01,0.001]\n",
    "}\n",
    "\n",
    "ada_grid=GridSearchCV(ada_model,ada_params, cv=10, scoring='accuracy')\n",
    "\n",
    "ada_grid.fit(x_train_geo,y_train_geo)\n"
   ]
  },
  {
   "cell_type": "code",
   "execution_count": 31,
   "metadata": {},
   "outputs": [
    {
     "data": {
      "text/plain": [
       "array([0.6985891 , 0.70514435, 0.70371174, 0.7039288 , 0.70520946,\n",
       "       0.69448665, 0.69448665, 0.69448665, 0.69448665, 0.69448665,\n",
       "       0.64317343, 0.64317343, 0.64317343, 0.66203603, 0.69448665])"
      ]
     },
     "execution_count": 31,
     "metadata": {},
     "output_type": "execute_result"
    }
   ],
   "source": [
    "#Prints mean cross-validation scores\n",
    "ada_grid.cv_results_['mean_test_score']"
   ]
  },
  {
   "cell_type": "code",
   "execution_count": 32,
   "metadata": {},
   "outputs": [
    {
     "name": "stdout",
     "output_type": "stream",
     "text": [
      "{'learning_rate': 0.1, 'n_estimators': 500}\n",
      "0.7052094638593445\n",
      "AdaBoostClassifier(algorithm='SAMME.R',\n",
      "                   base_estimator=DecisionTreeClassifier(ccp_alpha=0.0,\n",
      "                                                         class_weight=None,\n",
      "                                                         criterion='gini',\n",
      "                                                         max_depth=1,\n",
      "                                                         max_features=None,\n",
      "                                                         max_leaf_nodes=None,\n",
      "                                                         min_impurity_decrease=0.0,\n",
      "                                                         min_impurity_split=None,\n",
      "                                                         min_samples_leaf=1,\n",
      "                                                         min_samples_split=2,\n",
      "                                                         min_weight_fraction_leaf=0.0,\n",
      "                                                         presort='deprecated',\n",
      "                                                         random_state=None,\n",
      "                                                         splitter='best'),\n",
      "                   learning_rate=0.1, n_estimators=500, random_state=None)\n"
     ]
    }
   ],
   "source": [
    "print(ada_grid.best_params_)\n",
    "print(ada_grid.best_score_)\n",
    "print (ada_grid.best_estimator_)"
   ]
  },
  {
   "cell_type": "code",
   "execution_count": 33,
   "metadata": {},
   "outputs": [
    {
     "name": "stdout",
     "output_type": "stream",
     "text": [
      "Confusion Matrix w/o Normalization\n",
      "[[5950    0  351]\n",
      " [ 696    0   95]\n",
      " [2301    0 2125]]\n"
     ]
    },
    {
     "data": {
      "image/png": "[encoded data removed]",
      "text/plain": [
       "<Figure size 432x288 with 2 Axes>"
      ]
     },
     "metadata": {
      "needs_background": "light"
     },
     "output_type": "display_data"
    }
   ],
   "source": [
    "#Creates the model with the best hyperparamter \n",
    "final_model=ada_grid.best_estimator_\n",
    "#Predicts the model\n",
    "ada_prediction=final_model.predict(X_test_geo)\n",
    "#Creates the confusion matrix\n",
    "forest_cm=confusion_matrix(Y_test_geo,ada_prediction)\n",
    "#Plots the confusion matrix\n",
    "plot_confusion_matrix(forest_cm, cm_labels)"
   ]
  },
  {
   "cell_type": "code",
   "execution_count": 34,
   "metadata": {},
   "outputs": [
    {
     "name": "stdout",
     "output_type": "stream",
     "text": [
      "Precision Score for Random Forest is 0.49718467560331336\n",
      "Recall Score for Random Forest is: 0.4748040146643486\n",
      "Accuracy Socre Random Forest is : 0.7010765757944087\n"
     ]
    },
    {
     "name": "stderr",
     "output_type": "stream",
     "text": [
      "C:\\Users\\John\\Anaconda3\\lib\\site-packages\\sklearn\\metrics\\_classification.py:1272: UndefinedMetricWarning: Precision is ill-defined and being set to 0.0 in labels with no predicted samples. Use `zero_division` parameter to control this behavior.\n",
      "  _warn_prf(average, modifier, msg_start, len(result))\n"
     ]
    }
   ],
   "source": [
    "print('Precision Score for Random Forest is',precision_score(Y_test_geo,ada_prediction,average='macro'))\n",
    "print('Recall Score for Random Forest is:',recall_score(Y_test_geo,ada_prediction,average='macro'))\n",
    "print('Accuracy Socre Random Forest is :', accuracy_score(Y_test_geo,ada_prediction))"
   ]
  },
  {
   "cell_type": "markdown",
   "metadata": {},
   "source": [
    "attempt to use one hot encoding on target variables. Perhaps this will increase accuracy"
   ]
  },
  {
   "cell_type": "code",
   "execution_count": 39,
   "metadata": {},
   "outputs": [],
   "source": [
    "#One hot encode the target variable. Last attempt tot imporve accuracy\n",
    "from sklearn.preprocessing import OneHotEncoder\n",
    "ohe=OneHotEncoder(sparse=False)\n",
    "one_hot=ohe.fit_transform(new_x[['Targets']])"
   ]
  },
  {
   "cell_type": "code",
   "execution_count": 40,
   "metadata": {},
   "outputs": [
    {
     "data": {
      "text/plain": [
       "[array(['functional', 'functional needs repair', 'non functional'],\n",
       "       dtype=object)]"
      ]
     },
     "execution_count": 40,
     "metadata": {},
     "output_type": "execute_result"
    }
   ],
   "source": [
    "#One hot categories\n",
    "ohe.categories_"
   ]
  },
  {
   "cell_type": "code",
   "execution_count": 41,
   "metadata": {},
   "outputs": [],
   "source": [
    "#splits the data into training and testing\n",
    "x_train_one,X_test_one,y_train_one,Y_test_one=train_test_split(x_new_encoded,one_hot, test_size=.2,random_state=42)"
   ]
  },
  {
   "cell_type": "code",
   "execution_count": 44,
   "metadata": {},
   "outputs": [
    {
     "data": {
      "text/plain": [
       "GridSearchCV(cv=10, error_score=nan,\n",
       "             estimator=RandomForestClassifier(bootstrap=True, ccp_alpha=0.0,\n",
       "                                              class_weight=None,\n",
       "                                              criterion='gini', max_depth=None,\n",
       "                                              max_features='auto',\n",
       "                                              max_leaf_nodes=None,\n",
       "                                              max_samples=None,\n",
       "                                              min_impurity_decrease=0.0,\n",
       "                                              min_impurity_split=None,\n",
       "                                              min_samples_leaf=1,\n",
       "                                              min_samples_split=2,\n",
       "                                              min_weight_fraction_leaf=0.0,\n",
       "                                              n_estimators=100, n_jobs=None,\n",
       "                                              oob_score=False,\n",
       "                                              random_state=None, verbose=0,\n",
       "                                              warm_start=False),\n",
       "             iid='deprecated', n_jobs=None,\n",
       "             param_grid={'n_estimators': [10, 20, 30, 40, 50, 60, 70, 80, 90,\n",
       "                                          100]},\n",
       "             pre_dispatch='2*n_jobs', refit=True, return_train_score=False,\n",
       "             scoring='accuracy', verbose=0)"
      ]
     },
     "execution_count": 44,
     "metadata": {},
     "output_type": "execute_result"
    }
   ],
   "source": [
    "#Random Forest Classifier using one hot encoder\n",
    "random.seed(42)\n",
    "\n",
    "one_hot_model=RandomForestClassifier()\n",
    "\n",
    "n_estimators=[10,20,30,40,50,60,70,80,90,100]\n",
    "param_grid=dict(n_estimators=n_estimators)\n",
    "\n",
    "ohe_grid=GridSearchCV(one_hot_model,param_grid, cv=10, scoring='accuracy') \n",
    "\n",
    "#Fit the grid with the data\n",
    "ohe_grid.fit(x_train_one,y_train_one)"
   ]
  },
  {
   "cell_type": "code",
   "execution_count": 45,
   "metadata": {},
   "outputs": [
    {
     "data": {
      "text/plain": [
       "array([0.69798133, 0.69884958, 0.69884958, 0.69863252, 0.69897981,\n",
       "       0.69937052, 0.70013024, 0.70091166, 0.70078142, 0.7007163 ])"
      ]
     },
     "execution_count": 45,
     "metadata": {},
     "output_type": "execute_result"
    }
   ],
   "source": [
    "#Mean Cross validation Scores\n",
    "ohe_grid.cv_results_['mean_test_score']"
   ]
  },
  {
   "cell_type": "code",
   "execution_count": 46,
   "metadata": {},
   "outputs": [
    {
     "name": "stdout",
     "output_type": "stream",
     "text": [
      "{'n_estimators': 80}\n",
      "0.7009116561753853\n",
      "RandomForestClassifier(bootstrap=True, ccp_alpha=0.0, class_weight=None,\n",
      "                       criterion='gini', max_depth=None, max_features='auto',\n",
      "                       max_leaf_nodes=None, max_samples=None,\n",
      "                       min_impurity_decrease=0.0, min_impurity_split=None,\n",
      "                       min_samples_leaf=1, min_samples_split=2,\n",
      "                       min_weight_fraction_leaf=0.0, n_estimators=80,\n",
      "                       n_jobs=None, oob_score=False, random_state=None,\n",
      "                       verbose=0, warm_start=False)\n"
     ]
    }
   ],
   "source": [
    "print(ohe_grid.best_params_)\n",
    "print(ohe_grid.best_score_)\n",
    "print (ohe_grid.best_estimator_)"
   ]
  },
  {
   "cell_type": "code",
   "execution_count": 64,
   "metadata": {},
   "outputs": [
    {
     "name": "stdout",
     "output_type": "stream",
     "text": [
      "Confusion Matrix w/o Normalization\n",
      "[[5902   26  373]\n",
      " [ 643   60   88]\n",
      " [2145   22 2259]]\n"
     ]
    },
    {
     "data": {
      "image/png": "[encoded data removed]",
      "text/plain": [
       "<Figure size 432x288 with 2 Axes>"
      ]
     },
     "metadata": {
      "needs_background": "light"
     },
     "output_type": "display_data"
    }
   ],
   "source": [
    "#Creates the model with the best hyperparamter \n",
    "ohe_final_model=ohe_grid.best_estimator_\n",
    "#Predicts the model\n",
    "ohe_prediction=ohe_final_model.predict(X_test_one)\n",
    "#Creates the confusion matrix\n",
    "ohe_cm=confusion_matrix(Y_test_one.argmax(axis=1),ohe_prediction.argmax(axis=1))\n",
    "#Plots the confusion matrix\n",
    "plot_confusion_matrix(ohe_cm, cm_labels)"
   ]
  },
  {
   "cell_type": "code",
   "execution_count": 57,
   "metadata": {},
   "outputs": [
    {
     "name": "stdout",
     "output_type": "stream",
     "text": [
      "Precision Score for Random Forest is 0.692085631998468\n",
      "Recall Score for Random Forest is: 0.49864778506582713\n",
      "Accuracy Socre Random Forest is : 0.6989928807084563\n"
     ]
    }
   ],
   "source": [
    "print('Precision Score for Random Forest is',precision_score(Y_test_one,ohe_prediction,average='macro'))\n",
    "print('Recall Score for Random Forest is:',recall_score(Y_test_one,ohe_prediction,average='macro'))\n",
    "print('Accuracy Socre Random Forest is :', accuracy_score(Y_test_one,ohe_prediction))"
   ]
  }
 ],
 "metadata": {
  "kernelspec": {
   "display_name": "Python 3",
   "language": "python",
   "name": "python3"
  },
  "language_info": {
   "codemirror_mode": {
    "name": "ipython",
    "version": 3
   },
   "file_extension": ".py",
   "mimetype": "text/x-python",
   "name": "python",
   "nbconvert_exporter": "python",
   "pygments_lexer": "ipython3",
   "version": "3.7.4"
  }
 },
 "nbformat": 4,
 "nbformat_minor": 4
}
